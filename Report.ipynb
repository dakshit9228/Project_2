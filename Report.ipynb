{
 "cells": [
  {
   "cell_type": "markdown",
   "metadata": {},
   "source": [
    "# Comprehensive Analysis of Web Scraped Data: Insights from Books to College Football\n",
    "\n",
    "**Author: [Anuj Friends 1]**\n",
    "\n",
    "This report presents an in-depth analysis of datasets obtained through various web scraping and API techniques, focusing on data ranging from book information to college football statistics. The report showcases the process of data extraction, cleaning, and analysis, offering valuable insights into these diverse domains.\n"
   ]
  },
  {
   "cell_type": "markdown",
   "metadata": {},
   "source": [
    "# XML Parsing of Sitemaps\n",
    "\n",
    "This notebook demonstrates the process of parsing XML sitemaps from a website using a custom Python class, `SitemapParser`. The purpose is to extract and analyze the sitemap of \"https://seocrawl.com/\" for insights and potential data analysis applications.\n"
   ]
  },
  {
   "cell_type": "code",
   "execution_count": 3,
   "metadata": {},
   "outputs": [],
   "source": [
    "# Import necessary libraries\n",
    "from sitemap_parser import SitemapParser  # Replace 'your_package_name' with the actual name of your package\n",
    "import pandas as pd\n"
   ]
  },
  {
   "cell_type": "markdown",
   "metadata": {},
   "source": [
    "## Initializing SitemapParser\n",
    "\n",
    "We initialize the `SitemapParser` with the domain \"https://seocrawl.com/\" to fetch and parse its sitemaps. This domain has been selected for its relevance and compliance with web scraping guidelines.\n"
   ]
  },
  {
   "cell_type": "code",
   "execution_count": 4,
   "metadata": {},
   "outputs": [],
   "source": [
    "# Initialize SitemapParser\n",
    "parser = SitemapParser(\"seocrawl.com\")\n"
   ]
  },
  {
   "cell_type": "markdown",
   "metadata": {},
   "source": [
    "## Parsing the Sitemap\n",
    "\n",
    "The `SitemapParser` class fetches the `robots.txt` of the given domain to locate the sitemap URLs and then parses each sitemap. This process extracts all URLs listed in the sitemap(s).\n"
   ]
  },
  {
   "cell_type": "code",
   "execution_count": 5,
   "metadata": {},
   "outputs": [],
   "source": [
    "# Fetch and parse the sitemap\n",
    "parser.get_all_sitemaps()\n"
   ]
  },
  {
   "cell_type": "markdown",
   "metadata": {},
   "source": [
    "## Displaying the Parsed Data\n",
    "\n",
    "After parsing the sitemaps, the URLs are stored in a pandas DataFrame. Below, we display this DataFrame to review the extracted data.\n"
   ]
  },
  {
   "cell_type": "code",
   "execution_count": 6,
   "metadata": {},
   "outputs": [
    {
     "data": {
      "text/html": [
       "<div>\n",
       "<style scoped>\n",
       "    .dataframe tbody tr th:only-of-type {\n",
       "        vertical-align: middle;\n",
       "    }\n",
       "\n",
       "    .dataframe tbody tr th {\n",
       "        vertical-align: top;\n",
       "    }\n",
       "\n",
       "    .dataframe thead th {\n",
       "        text-align: right;\n",
       "    }\n",
       "</style>\n",
       "<table border=\"1\" class=\"dataframe\">\n",
       "  <thead>\n",
       "    <tr style=\"text-align: right;\">\n",
       "      <th></th>\n",
       "      <th>URLs</th>\n",
       "    </tr>\n",
       "  </thead>\n",
       "  <tbody>\n",
       "    <tr>\n",
       "      <th>0</th>\n",
       "      <td>https://seocrawl.com/en/product-report-october...</td>\n",
       "    </tr>\n",
       "    <tr>\n",
       "      <th>1</th>\n",
       "      <td>https://seocrawl.com/wp-content/uploads/2023/1...</td>\n",
       "    </tr>\n",
       "    <tr>\n",
       "      <th>2</th>\n",
       "      <td>https://seocrawl.com/wp-content/uploads/2023/1...</td>\n",
       "    </tr>\n",
       "    <tr>\n",
       "      <th>3</th>\n",
       "      <td>https://seocrawl.com/wp-content/uploads/2023/1...</td>\n",
       "    </tr>\n",
       "    <tr>\n",
       "      <th>4</th>\n",
       "      <td>https://seocrawl.com/wp-content/uploads/2023/1...</td>\n",
       "    </tr>\n",
       "    <tr>\n",
       "      <th>...</th>\n",
       "      <td>...</td>\n",
       "    </tr>\n",
       "    <tr>\n",
       "      <th>3978</th>\n",
       "      <td>https://seocrawl.com/post-sitemap1.xml</td>\n",
       "    </tr>\n",
       "    <tr>\n",
       "      <th>3979</th>\n",
       "      <td>https://seocrawl.com/post-sitemap2.xml</td>\n",
       "    </tr>\n",
       "    <tr>\n",
       "      <th>3980</th>\n",
       "      <td>https://seocrawl.com/page-sitemap.xml</td>\n",
       "    </tr>\n",
       "    <tr>\n",
       "      <th>3981</th>\n",
       "      <td>https://seocrawl.com/category-sitemap.xml</td>\n",
       "    </tr>\n",
       "    <tr>\n",
       "      <th>3982</th>\n",
       "      <td>https://seocrawl.com/author-sitemap.xml</td>\n",
       "    </tr>\n",
       "  </tbody>\n",
       "</table>\n",
       "<p>3983 rows × 1 columns</p>\n",
       "</div>"
      ],
      "text/plain": [
       "                                                   URLs\n",
       "0     https://seocrawl.com/en/product-report-october...\n",
       "1     https://seocrawl.com/wp-content/uploads/2023/1...\n",
       "2     https://seocrawl.com/wp-content/uploads/2023/1...\n",
       "3     https://seocrawl.com/wp-content/uploads/2023/1...\n",
       "4     https://seocrawl.com/wp-content/uploads/2023/1...\n",
       "...                                                 ...\n",
       "3978             https://seocrawl.com/post-sitemap1.xml\n",
       "3979             https://seocrawl.com/post-sitemap2.xml\n",
       "3980              https://seocrawl.com/page-sitemap.xml\n",
       "3981          https://seocrawl.com/category-sitemap.xml\n",
       "3982            https://seocrawl.com/author-sitemap.xml\n",
       "\n",
       "[3983 rows x 1 columns]"
      ]
     },
     "execution_count": 6,
     "metadata": {},
     "output_type": "execute_result"
    }
   ],
   "source": [
    "# Retrieve and display the combined DataFrame\n",
    "combined_df = parser.get_combined_dataframe()\n",
    "combined_df\n"
   ]
  },
  {
   "cell_type": "markdown",
   "metadata": {},
   "source": [
    "## Saving Data to CSV\n",
    "\n",
    "Optionally, the parsed data can be saved to a CSV file for further use or analysis. This is demonstrated below.\n"
   ]
  },
  {
   "cell_type": "code",
   "execution_count": 7,
   "metadata": {},
   "outputs": [],
   "source": [
    "# Save the DataFrame to a CSV file\n",
    "parser.save_as_csv(\"seocrawl_sitemap.csv\")\n"
   ]
  },
  {
   "cell_type": "markdown",
   "metadata": {},
   "source": [
    "# College Football Data Analysis\n",
    "\n",
    "This notebook demonstrates the use of the `CollegeFootballDataAPI` class to fetch and analyze college football games data. We will retrieve data from the years 2000 to 2023 for the regular season using the College Football Data API.\n"
   ]
  },
  {
   "cell_type": "code",
   "execution_count": 9,
   "metadata": {},
   "outputs": [],
   "source": [
    "# Import necessary libraries and classes\n",
    "from college_football_data_api import CollegeFootballDataAPI  # Replace with the actual name of your package\n",
    "import pandas as pd\n"
   ]
  },
  {
   "cell_type": "markdown",
   "metadata": {},
   "source": [
    "## Initializing the CollegeFootballDataAPI\n",
    "\n",
    "For security reasons, the API token is typically stored in an environment variable or a secure location. However, for demonstration purposes, we will use a provided token directly.\n"
   ]
  },
  {
   "cell_type": "code",
   "execution_count": 10,
   "metadata": {},
   "outputs": [],
   "source": [
    "# Initialize the API with a token\n",
    "api_token = 'NF5XyRoVY1ybcWe/Mi5odh+EnOanIDuGwnEZIESYydKKZS/zm7FECPwkUf516oQZ'\n",
    "api = CollegeFootballDataAPI(api_token)\n"
   ]
  },
  {
   "cell_type": "markdown",
   "metadata": {},
   "source": [
    "## Fetching Game Data\n",
    "\n",
    "We fetch data for college football games from 2000 to 2023 for the 'regular' season. The data includes various details about each game.\n"
   ]
  },
  {
   "cell_type": "code",
   "execution_count": 11,
   "metadata": {},
   "outputs": [],
   "source": [
    "# Fetch data for the specified year range and season type\n",
    "all_games_df = api.get_games_for_year_range(2000, 2023, 'regular')\n"
   ]
  },
  {
   "cell_type": "markdown",
   "metadata": {},
   "source": [
    "## Displaying the Retrieved Data\n",
    "\n",
    "Below is the data retrieved from the College Football Data API. It includes details like game dates, participating teams, scores, and locations.\n"
   ]
  },
  {
   "cell_type": "code",
   "execution_count": 12,
   "metadata": {},
   "outputs": [
    {
     "data": {
      "text/html": [
       "<div>\n",
       "<style scoped>\n",
       "    .dataframe tbody tr th:only-of-type {\n",
       "        vertical-align: middle;\n",
       "    }\n",
       "\n",
       "    .dataframe tbody tr th {\n",
       "        vertical-align: top;\n",
       "    }\n",
       "\n",
       "    .dataframe thead th {\n",
       "        text-align: right;\n",
       "    }\n",
       "</style>\n",
       "<table border=\"1\" class=\"dataframe\">\n",
       "  <thead>\n",
       "    <tr style=\"text-align: right;\">\n",
       "      <th></th>\n",
       "      <th>id</th>\n",
       "      <th>season</th>\n",
       "      <th>week</th>\n",
       "      <th>season_type</th>\n",
       "      <th>start_date</th>\n",
       "      <th>start_time_tbd</th>\n",
       "      <th>completed</th>\n",
       "      <th>neutral_site</th>\n",
       "      <th>conference_game</th>\n",
       "      <th>attendance</th>\n",
       "      <th>...</th>\n",
       "      <th>away_conference</th>\n",
       "      <th>away_division</th>\n",
       "      <th>away_points</th>\n",
       "      <th>away_line_scores</th>\n",
       "      <th>away_post_win_prob</th>\n",
       "      <th>away_pregame_elo</th>\n",
       "      <th>away_postgame_elo</th>\n",
       "      <th>excitement_index</th>\n",
       "      <th>highlights</th>\n",
       "      <th>notes</th>\n",
       "    </tr>\n",
       "  </thead>\n",
       "  <tbody>\n",
       "    <tr>\n",
       "      <th>0</th>\n",
       "      <td>63069</td>\n",
       "      <td>2000</td>\n",
       "      <td>1</td>\n",
       "      <td>regular</td>\n",
       "      <td>2000-08-26T00:00:00.000Z</td>\n",
       "      <td>None</td>\n",
       "      <td>True</td>\n",
       "      <td>False</td>\n",
       "      <td>None</td>\n",
       "      <td>NaN</td>\n",
       "      <td>...</td>\n",
       "      <td>Big Ten</td>\n",
       "      <td>fbs</td>\n",
       "      <td>7.0</td>\n",
       "      <td>[]</td>\n",
       "      <td>None</td>\n",
       "      <td>1344.0</td>\n",
       "      <td>1349.0</td>\n",
       "      <td>None</td>\n",
       "      <td>None</td>\n",
       "      <td>None</td>\n",
       "    </tr>\n",
       "    <tr>\n",
       "      <th>1</th>\n",
       "      <td>63068</td>\n",
       "      <td>2000</td>\n",
       "      <td>1</td>\n",
       "      <td>regular</td>\n",
       "      <td>2000-08-26T00:00:00.000Z</td>\n",
       "      <td>None</td>\n",
       "      <td>True</td>\n",
       "      <td>False</td>\n",
       "      <td>None</td>\n",
       "      <td>NaN</td>\n",
       "      <td>...</td>\n",
       "      <td>Mountain West</td>\n",
       "      <td>fbs</td>\n",
       "      <td>3.0</td>\n",
       "      <td>[]</td>\n",
       "      <td>None</td>\n",
       "      <td>1603.0</td>\n",
       "      <td>1572.0</td>\n",
       "      <td>None</td>\n",
       "      <td>None</td>\n",
       "      <td>None</td>\n",
       "    </tr>\n",
       "    <tr>\n",
       "      <th>2</th>\n",
       "      <td>63070</td>\n",
       "      <td>2000</td>\n",
       "      <td>1</td>\n",
       "      <td>regular</td>\n",
       "      <td>2000-08-26T00:00:00.000Z</td>\n",
       "      <td>None</td>\n",
       "      <td>True</td>\n",
       "      <td>False</td>\n",
       "      <td>None</td>\n",
       "      <td>NaN</td>\n",
       "      <td>...</td>\n",
       "      <td>None</td>\n",
       "      <td>None</td>\n",
       "      <td>10.0</td>\n",
       "      <td>[]</td>\n",
       "      <td>None</td>\n",
       "      <td>NaN</td>\n",
       "      <td>NaN</td>\n",
       "      <td>None</td>\n",
       "      <td>None</td>\n",
       "      <td>None</td>\n",
       "    </tr>\n",
       "    <tr>\n",
       "      <th>3</th>\n",
       "      <td>63071</td>\n",
       "      <td>2000</td>\n",
       "      <td>1</td>\n",
       "      <td>regular</td>\n",
       "      <td>2000-08-26T00:00:00.000Z</td>\n",
       "      <td>None</td>\n",
       "      <td>True</td>\n",
       "      <td>False</td>\n",
       "      <td>None</td>\n",
       "      <td>NaN</td>\n",
       "      <td>...</td>\n",
       "      <td>Mountain West</td>\n",
       "      <td>fbs</td>\n",
       "      <td>3.0</td>\n",
       "      <td>[]</td>\n",
       "      <td>None</td>\n",
       "      <td>1324.0</td>\n",
       "      <td>1289.0</td>\n",
       "      <td>None</td>\n",
       "      <td>None</td>\n",
       "      <td>None</td>\n",
       "    </tr>\n",
       "    <tr>\n",
       "      <th>4</th>\n",
       "      <td>63072</td>\n",
       "      <td>2000</td>\n",
       "      <td>1</td>\n",
       "      <td>regular</td>\n",
       "      <td>2000-08-27T00:00:00.000Z</td>\n",
       "      <td>None</td>\n",
       "      <td>True</td>\n",
       "      <td>False</td>\n",
       "      <td>None</td>\n",
       "      <td>NaN</td>\n",
       "      <td>...</td>\n",
       "      <td>Big Ten</td>\n",
       "      <td>fbs</td>\n",
       "      <td>5.0</td>\n",
       "      <td>[]</td>\n",
       "      <td>None</td>\n",
       "      <td>1789.0</td>\n",
       "      <td>1712.0</td>\n",
       "      <td>None</td>\n",
       "      <td>None</td>\n",
       "      <td>None</td>\n",
       "    </tr>\n",
       "  </tbody>\n",
       "</table>\n",
       "<p>5 rows × 33 columns</p>\n",
       "</div>"
      ],
      "text/plain": [
       "      id  season  week season_type                start_date start_time_tbd  \\\n",
       "0  63069    2000     1     regular  2000-08-26T00:00:00.000Z           None   \n",
       "1  63068    2000     1     regular  2000-08-26T00:00:00.000Z           None   \n",
       "2  63070    2000     1     regular  2000-08-26T00:00:00.000Z           None   \n",
       "3  63071    2000     1     regular  2000-08-26T00:00:00.000Z           None   \n",
       "4  63072    2000     1     regular  2000-08-27T00:00:00.000Z           None   \n",
       "\n",
       "   completed  neutral_site conference_game  attendance  ...  away_conference  \\\n",
       "0       True         False            None         NaN  ...          Big Ten   \n",
       "1       True         False            None         NaN  ...    Mountain West   \n",
       "2       True         False            None         NaN  ...             None   \n",
       "3       True         False            None         NaN  ...    Mountain West   \n",
       "4       True         False            None         NaN  ...          Big Ten   \n",
       "\n",
       "  away_division  away_points away_line_scores away_post_win_prob  \\\n",
       "0           fbs          7.0               []               None   \n",
       "1           fbs          3.0               []               None   \n",
       "2          None         10.0               []               None   \n",
       "3           fbs          3.0               []               None   \n",
       "4           fbs          5.0               []               None   \n",
       "\n",
       "  away_pregame_elo  away_postgame_elo excitement_index highlights  notes  \n",
       "0           1344.0             1349.0             None       None   None  \n",
       "1           1603.0             1572.0             None       None   None  \n",
       "2              NaN                NaN             None       None   None  \n",
       "3           1324.0             1289.0             None       None   None  \n",
       "4           1789.0             1712.0             None       None   None  \n",
       "\n",
       "[5 rows x 33 columns]"
      ]
     },
     "execution_count": 12,
     "metadata": {},
     "output_type": "execute_result"
    }
   ],
   "source": [
    "# Display the first few rows of the DataFrame\n",
    "all_games_df.head()\n"
   ]
  },
  {
   "cell_type": "markdown",
   "metadata": {},
   "source": [
    "# Web Scraping with BeautifulSoup: Books to Scrape\n",
    "\n",
    "This notebook demonstrates web scraping using the `BookScraper` class. We'll scrape book data from the 'Books to Scrape' website, a simulated bookstore for practicing web scraping. The data includes book titles, ratings, prices, and other details.\n"
   ]
  },
  {
   "cell_type": "code",
   "execution_count": 14,
   "metadata": {},
   "outputs": [],
   "source": [
    "# Import necessary libraries and classes\n",
    "from book_scraper import BookScraper  # Replace with the actual name of your package\n",
    "import pandas as pd\n"
   ]
  },
  {
   "cell_type": "markdown",
   "metadata": {},
   "source": [
    "## Initializing the BookScraper\n",
    "\n",
    "We initialize `BookScraper` with the base URL of the 'Books to Scrape' website.\n"
   ]
  },
  {
   "cell_type": "code",
   "execution_count": 15,
   "metadata": {},
   "outputs": [],
   "source": [
    "# Initialize BookScraper\n",
    "base_url = \"https://books.toscrape.com/catalogue/\"\n",
    "scraper = BookScraper(base_url)\n"
   ]
  },
  {
   "cell_type": "markdown",
   "metadata": {},
   "source": [
    "## Generating URLs for Scraping\n",
    "\n",
    "We generate URLs for multiple pages of the bookstore to demonstrate pagination handling.\n"
   ]
  },
  {
   "cell_type": "code",
   "execution_count": 16,
   "metadata": {},
   "outputs": [
    {
     "data": {
      "text/plain": [
       "['https://books.toscrape.com/catalogue/page-1.html',\n",
       " 'https://books.toscrape.com/catalogue/page-2.html',\n",
       " 'https://books.toscrape.com/catalogue/page-3.html',\n",
       " 'https://books.toscrape.com/catalogue/page-4.html',\n",
       " 'https://books.toscrape.com/catalogue/page-5.html']"
      ]
     },
     "execution_count": 16,
     "metadata": {},
     "output_type": "execute_result"
    }
   ],
   "source": [
    "# Generate URLs for the first 5 pages as an example\n",
    "main_pages = scraper.generate_urls(1, 5)\n",
    "main_pages\n"
   ]
  },
  {
   "cell_type": "markdown",
   "metadata": {},
   "source": [
    "## Scraping Main Pages for Product Links\n",
    "\n",
    "Each main page contains links to individual product pages. We'll scrape these links from the main pages.\n"
   ]
  },
  {
   "cell_type": "code",
   "execution_count": 17,
   "metadata": {},
   "outputs": [
    {
     "data": {
      "text/plain": [
       "['https://books.toscrape.com/catalogue/a-light-in-the-attic_1000/index.html',\n",
       " 'https://books.toscrape.com/catalogue/tipping-the-velvet_999/index.html',\n",
       " 'https://books.toscrape.com/catalogue/soumission_998/index.html',\n",
       " 'https://books.toscrape.com/catalogue/sharp-objects_997/index.html',\n",
       " 'https://books.toscrape.com/catalogue/sapiens-a-brief-history-of-humankind_996/index.html']"
      ]
     },
     "execution_count": 17,
     "metadata": {},
     "output_type": "execute_result"
    }
   ],
   "source": [
    "# Scrape main pages for product links\n",
    "product_links = []\n",
    "for page_url in main_pages:\n",
    "    product_links.extend(scraper.scrape_main_page(page_url))\n",
    "\n",
    "# Display the first few product links\n",
    "product_links[:5]\n"
   ]
  },
  {
   "cell_type": "markdown",
   "metadata": {},
   "source": [
    "## Scraping Individual Product Pages\n",
    "\n",
    "Now, we'll scrape details from each product page, such as title, price, and rating.\n"
   ]
  },
  {
   "cell_type": "code",
   "execution_count": 18,
   "metadata": {},
   "outputs": [
    {
     "data": {
      "text/plain": [
       "[{'title': 'A Light in the Attic',\n",
       "  'image_url': 'https://books.toscrape.com/media/cache/fe/72/fe72f0532301ec28892ae79a629a293c.jpg',\n",
       "  'price': '£51.77',\n",
       "  'rating': 'Three',\n",
       "  'description': \"It's hard to imagine a world without A Light in the Attic. This now-classic collection of poetry and drawings from Shel Silverstein celebrates its 20th anniversary with this special edition. Silverstein's humorous and creative verse can amuse the dowdiest of readers. Lemon-faced adults and fidgety kids sit still and read these rhythmic words and laugh and smile and love th It's hard to imagine a world without A Light in the Attic. This now-classic collection of poetry and drawings from Shel Silverstein celebrates its 20th anniversary with this special edition. Silverstein's humorous and creative verse can amuse the dowdiest of readers. Lemon-faced adults and fidgety kids sit still and read these rhythmic words and laugh and smile and love that Silverstein. Need proof of his genius? RockabyeRockabye baby, in the treetopDon't you know a treetopIs no safe place to rock?And who put you up there,And your cradle, too?Baby, I think someone down here'sGot it in for you. Shel, you never sounded so good. ...more\",\n",
       "  'UPC': 'a897fe39b1053632',\n",
       "  'Product Type': 'Books',\n",
       "  'Price (excl. tax)': '£51.77',\n",
       "  'Price (incl. tax)': '£51.77',\n",
       "  'Tax': '£0.00',\n",
       "  'Availability': 'In stock (22 available)',\n",
       "  'Number of reviews': '0'},\n",
       " {'title': 'Tipping the Velvet',\n",
       "  'image_url': 'https://books.toscrape.com/media/cache/08/e9/08e94f3731d7d6b760dfbfbc02ca5c62.jpg',\n",
       "  'price': '£53.74',\n",
       "  'rating': 'One',\n",
       "  'description': '\"Erotic and absorbing...Written with starling power.\"--\"The New York Times Book Review \" Nan King, an oyster girl, is captivated by the music hall phenomenon Kitty Butler, a male impersonator extraordinaire treading the boards in Canterbury. Through a friend at the box office, Nan manages to visit all her shows and finally meet her heroine. Soon after, she becomes Kitty\\'s \"Erotic and absorbing...Written with starling power.\"--\"The New York Times Book Review \" Nan King, an oyster girl, is captivated by the music hall phenomenon Kitty Butler, a male impersonator extraordinaire treading the boards in Canterbury. Through a friend at the box office, Nan manages to visit all her shows and finally meet her heroine. Soon after, she becomes Kitty\\'s dresser and the two head for the bright lights of Leicester Square where they begin a glittering career as music-hall stars in an all-singing and dancing double act. At the same time, behind closed doors, they admit their attraction to each other and their affair begins. ...more',\n",
       "  'UPC': '90fa61229261140a',\n",
       "  'Product Type': 'Books',\n",
       "  'Price (excl. tax)': '£53.74',\n",
       "  'Price (incl. tax)': '£53.74',\n",
       "  'Tax': '£0.00',\n",
       "  'Availability': 'In stock (20 available)',\n",
       "  'Number of reviews': '0'},\n",
       " {'title': 'Soumission',\n",
       "  'image_url': 'https://books.toscrape.com/media/cache/ee/cf/eecfe998905e455df12064dba399c075.jpg',\n",
       "  'price': '£50.10',\n",
       "  'rating': 'One',\n",
       "  'description': 'Dans une France assez proche de la nôtre, un homme s’engage dans la carrière universitaire. Peu motivé par l’enseignement, il s’attend à une vie ennuyeuse mais calme, protégée des grands drames historiques. Cependant les forces en jeu dans le pays ont fissuré le système politique jusqu’à provoquer son effondrement. Cette implosion sans soubresauts, sans vraie révolution, s Dans une France assez proche de la nôtre, un homme s’engage dans la carrière universitaire. Peu motivé par l’enseignement, il s’attend à une vie ennuyeuse mais calme, protégée des grands drames historiques. Cependant les forces en jeu dans le pays ont fissuré le système politique jusqu’à provoquer son effondrement. Cette implosion sans soubresauts, sans vraie révolution, se développe comme un mauvais rêve.Le talent de l’auteur, sa force visionnaire nous entraînent sur un terrain ambigu et glissant ; son regard sur notre civilisation vieillissante fait coexister dans ce roman les intuitions poétiques, les effets comiques, une mélancolie fataliste.Ce livre est une saisissante fable politique et morale. ...more',\n",
       "  'UPC': '6957f44c3847a760',\n",
       "  'Product Type': 'Books',\n",
       "  'Price (excl. tax)': '£50.10',\n",
       "  'Price (incl. tax)': '£50.10',\n",
       "  'Tax': '£0.00',\n",
       "  'Availability': 'In stock (20 available)',\n",
       "  'Number of reviews': '0'},\n",
       " {'title': 'Sharp Objects',\n",
       "  'image_url': 'https://books.toscrape.com/media/cache/c0/59/c05972805aa7201171b8fc71a5b00292.jpg',\n",
       "  'price': '£47.82',\n",
       "  'rating': 'Four',\n",
       "  'description': 'WICKED above her hipbone, GIRL across her heart Words are like a road map to reporter Camille Preaker’s troubled past. Fresh from a brief stay at a psych hospital, Camille’s first assignment from the second-rate daily paper where she works brings her reluctantly back to her hometown to cover the murders of two preteen girls. NASTY on her kneecap, BABYDOLL on her leg Since WICKED above her hipbone, GIRL across her heart Words are like a road map to reporter Camille Preaker’s troubled past. Fresh from a brief stay at a psych hospital, Camille’s first assignment from the second-rate daily paper where she works brings her reluctantly back to her hometown to cover the murders of two preteen girls. NASTY on her kneecap, BABYDOLL on her leg Since she left town eight years ago, Camille has hardly spoken to her neurotic, hypochondriac mother or to the half-sister she barely knows: a beautiful thirteen-year-old with an eerie grip on the town. Now, installed again in her family’s Victorian mansion, Camille is haunted by the childhood tragedy she has spent her whole life trying to cut from her memory. HARMFUL on her wrist, WHORE on her ankle As Camille works to uncover the truth about these violent crimes, she finds herself identifying with the young victims—a bit too strongly. Clues keep leading to dead ends, forcing Camille to unravel the psychological puzzle of her own past to get at the story. Dogged by her own demons, Camille will have to confront what happened to her years before if she wants to survive this homecoming.With its taut, crafted writing, Sharp Objects is addictive, haunting, and unforgettable. ...more',\n",
       "  'UPC': 'e00eb4fd7b871a48',\n",
       "  'Product Type': 'Books',\n",
       "  'Price (excl. tax)': '£47.82',\n",
       "  'Price (incl. tax)': '£47.82',\n",
       "  'Tax': '£0.00',\n",
       "  'Availability': 'In stock (20 available)',\n",
       "  'Number of reviews': '0'},\n",
       " {'title': 'Sapiens: A Brief History of Humankind',\n",
       "  'image_url': 'https://books.toscrape.com/media/cache/ce/5f/ce5f052c65cc963cf4422be096e915c9.jpg',\n",
       "  'price': '£54.23',\n",
       "  'rating': 'Five',\n",
       "  'description': 'From a renowned historian comes a groundbreaking narrative of humanity’s creation and evolution—a #1 international bestseller—that explores the ways in which biology and history have defined us and enhanced our understanding of what it means to be “human.”One hundred thousand years ago, at least six different species of humans inhabited Earth. Yet today there is only one—h From a renowned historian comes a groundbreaking narrative of humanity’s creation and evolution—a #1 international bestseller—that explores the ways in which biology and history have defined us and enhanced our understanding of what it means to be “human.”One hundred thousand years ago, at least six different species of humans inhabited Earth. Yet today there is only one—homo sapiens. What happened to the others? And what may happen to us?Most books about the history of humanity pursue either a historical or a biological approach, but Dr. Yuval Noah Harari breaks the mold with this highly original book that begins about 70,000 years ago with the appearance of modern cognition. From examining the role evolving humans have played in the global ecosystem to charting the rise of empires, Sapiens integrates history and science to reconsider accepted narratives, connect past developments with contemporary concerns, and examine specific events within the context of larger ideas.Dr. Harari also compels us to look ahead, because over the last few decades humans have begun to bend laws of natural selection that have governed life for the past four billion years. We are acquiring the ability to design not only the world around us, but also ourselves. Where is this leading us, and what do we want to become?Featuring 27 photographs, 6 maps, and 25 illustrations/diagrams, this provocative and insightful work is sure to spark debate and is essential reading for aficionados of Jared Diamond, James Gleick, Matt Ridley, Robert Wright, and Sharon Moalem. ...more',\n",
       "  'UPC': '4165285e1663650f',\n",
       "  'Product Type': 'Books',\n",
       "  'Price (excl. tax)': '£54.23',\n",
       "  'Price (incl. tax)': '£54.23',\n",
       "  'Tax': '£0.00',\n",
       "  'Availability': 'In stock (20 available)',\n",
       "  'Number of reviews': '0'}]"
      ]
     },
     "execution_count": 18,
     "metadata": {},
     "output_type": "execute_result"
    }
   ],
   "source": [
    "# Scrape data from individual product pages (limited to first 5 products for demonstration)\n",
    "product_data = [scraper.scrape_product_page(url) for url in product_links[:5]]\n",
    "product_data\n"
   ]
  },
  {
   "cell_type": "markdown",
   "metadata": {},
   "source": [
    "## Saving and Displaying the Scraped Data\n",
    "\n",
    "The scraped data is saved to a CSV file and then loaded into a DataFrame for display.\n"
   ]
  },
  {
   "cell_type": "code",
   "execution_count": 19,
   "metadata": {},
   "outputs": [
    {
     "data": {
      "text/html": [
       "<div>\n",
       "<style scoped>\n",
       "    .dataframe tbody tr th:only-of-type {\n",
       "        vertical-align: middle;\n",
       "    }\n",
       "\n",
       "    .dataframe tbody tr th {\n",
       "        vertical-align: top;\n",
       "    }\n",
       "\n",
       "    .dataframe thead th {\n",
       "        text-align: right;\n",
       "    }\n",
       "</style>\n",
       "<table border=\"1\" class=\"dataframe\">\n",
       "  <thead>\n",
       "    <tr style=\"text-align: right;\">\n",
       "      <th></th>\n",
       "      <th>title</th>\n",
       "      <th>image_url</th>\n",
       "      <th>price</th>\n",
       "      <th>rating</th>\n",
       "      <th>description</th>\n",
       "      <th>UPC</th>\n",
       "      <th>Product Type</th>\n",
       "      <th>Price (excl. tax)</th>\n",
       "      <th>Price (incl. tax)</th>\n",
       "      <th>Tax</th>\n",
       "      <th>Availability</th>\n",
       "      <th>Number of reviews</th>\n",
       "    </tr>\n",
       "  </thead>\n",
       "  <tbody>\n",
       "    <tr>\n",
       "      <th>0</th>\n",
       "      <td>A Light in the Attic</td>\n",
       "      <td>https://books.toscrape.com/media/cache/fe/72/f...</td>\n",
       "      <td>£51.77</td>\n",
       "      <td>Three</td>\n",
       "      <td>It's hard to imagine a world without A Light i...</td>\n",
       "      <td>a897fe39b1053632</td>\n",
       "      <td>Books</td>\n",
       "      <td>£51.77</td>\n",
       "      <td>£51.77</td>\n",
       "      <td>£0.00</td>\n",
       "      <td>In stock (22 available)</td>\n",
       "      <td>0</td>\n",
       "    </tr>\n",
       "    <tr>\n",
       "      <th>1</th>\n",
       "      <td>Tipping the Velvet</td>\n",
       "      <td>https://books.toscrape.com/media/cache/08/e9/0...</td>\n",
       "      <td>£53.74</td>\n",
       "      <td>One</td>\n",
       "      <td>\"Erotic and absorbing...Written with starling ...</td>\n",
       "      <td>90fa61229261140a</td>\n",
       "      <td>Books</td>\n",
       "      <td>£53.74</td>\n",
       "      <td>£53.74</td>\n",
       "      <td>£0.00</td>\n",
       "      <td>In stock (20 available)</td>\n",
       "      <td>0</td>\n",
       "    </tr>\n",
       "    <tr>\n",
       "      <th>2</th>\n",
       "      <td>Soumission</td>\n",
       "      <td>https://books.toscrape.com/media/cache/ee/cf/e...</td>\n",
       "      <td>£50.10</td>\n",
       "      <td>One</td>\n",
       "      <td>Dans une France assez proche de la nôtre, un h...</td>\n",
       "      <td>6957f44c3847a760</td>\n",
       "      <td>Books</td>\n",
       "      <td>£50.10</td>\n",
       "      <td>£50.10</td>\n",
       "      <td>£0.00</td>\n",
       "      <td>In stock (20 available)</td>\n",
       "      <td>0</td>\n",
       "    </tr>\n",
       "    <tr>\n",
       "      <th>3</th>\n",
       "      <td>Sharp Objects</td>\n",
       "      <td>https://books.toscrape.com/media/cache/c0/59/c...</td>\n",
       "      <td>£47.82</td>\n",
       "      <td>Four</td>\n",
       "      <td>WICKED above her hipbone, GIRL across her hear...</td>\n",
       "      <td>e00eb4fd7b871a48</td>\n",
       "      <td>Books</td>\n",
       "      <td>£47.82</td>\n",
       "      <td>£47.82</td>\n",
       "      <td>£0.00</td>\n",
       "      <td>In stock (20 available)</td>\n",
       "      <td>0</td>\n",
       "    </tr>\n",
       "    <tr>\n",
       "      <th>4</th>\n",
       "      <td>Sapiens: A Brief History of Humankind</td>\n",
       "      <td>https://books.toscrape.com/media/cache/ce/5f/c...</td>\n",
       "      <td>£54.23</td>\n",
       "      <td>Five</td>\n",
       "      <td>From a renowned historian comes a groundbreaki...</td>\n",
       "      <td>4165285e1663650f</td>\n",
       "      <td>Books</td>\n",
       "      <td>£54.23</td>\n",
       "      <td>£54.23</td>\n",
       "      <td>£0.00</td>\n",
       "      <td>In stock (20 available)</td>\n",
       "      <td>0</td>\n",
       "    </tr>\n",
       "  </tbody>\n",
       "</table>\n",
       "</div>"
      ],
      "text/plain": [
       "                                   title  \\\n",
       "0                   A Light in the Attic   \n",
       "1                     Tipping the Velvet   \n",
       "2                             Soumission   \n",
       "3                          Sharp Objects   \n",
       "4  Sapiens: A Brief History of Humankind   \n",
       "\n",
       "                                           image_url   price rating  \\\n",
       "0  https://books.toscrape.com/media/cache/fe/72/f...  £51.77  Three   \n",
       "1  https://books.toscrape.com/media/cache/08/e9/0...  £53.74    One   \n",
       "2  https://books.toscrape.com/media/cache/ee/cf/e...  £50.10    One   \n",
       "3  https://books.toscrape.com/media/cache/c0/59/c...  £47.82   Four   \n",
       "4  https://books.toscrape.com/media/cache/ce/5f/c...  £54.23   Five   \n",
       "\n",
       "                                         description               UPC  \\\n",
       "0  It's hard to imagine a world without A Light i...  a897fe39b1053632   \n",
       "1  \"Erotic and absorbing...Written with starling ...  90fa61229261140a   \n",
       "2  Dans une France assez proche de la nôtre, un h...  6957f44c3847a760   \n",
       "3  WICKED above her hipbone, GIRL across her hear...  e00eb4fd7b871a48   \n",
       "4  From a renowned historian comes a groundbreaki...  4165285e1663650f   \n",
       "\n",
       "  Product Type Price (excl. tax) Price (incl. tax)    Tax  \\\n",
       "0        Books            £51.77            £51.77  £0.00   \n",
       "1        Books            £53.74            £53.74  £0.00   \n",
       "2        Books            £50.10            £50.10  £0.00   \n",
       "3        Books            £47.82            £47.82  £0.00   \n",
       "4        Books            £54.23            £54.23  £0.00   \n",
       "\n",
       "              Availability  Number of reviews  \n",
       "0  In stock (22 available)                  0  \n",
       "1  In stock (20 available)                  0  \n",
       "2  In stock (20 available)                  0  \n",
       "3  In stock (20 available)                  0  \n",
       "4  In stock (20 available)                  0  "
      ]
     },
     "execution_count": 19,
     "metadata": {},
     "output_type": "execute_result"
    }
   ],
   "source": [
    "# Save the scraped data to a CSV file\n",
    "csv_filename = 'scraped_books_data.csv'\n",
    "scraper.save_to_csv(product_data, csv_filename)\n",
    "\n",
    "# Load the data into a DataFrame and display\n",
    "df = pd.read_csv(csv_filename)\n",
    "df\n"
   ]
  },
  {
   "cell_type": "markdown",
   "metadata": {},
   "source": [
    "# Analysis of Scraped Book Data\n",
    "\n",
    "In this notebook, we'll analyze the book data scraped from the 'Books to Scrape' website. Our focus will be on understanding the distribution of book ratings, analyzing book prices, and exploring the categories of books available.\n"
   ]
  },
  {
   "cell_type": "code",
   "execution_count": 20,
   "metadata": {},
   "outputs": [],
   "source": [
    "# Import necessary libraries\n",
    "import pandas as pd\n",
    "import matplotlib.pyplot as plt\n",
    "import seaborn as sns\n",
    "\n",
    "# Load the dataset\n",
    "df = pd.read_csv('scraped_books_data.csv')\n"
   ]
  },
  {
   "cell_type": "markdown",
   "metadata": {},
   "source": [
    "## Exploratory Data Analysis\n",
    "\n",
    "First, let's get a feel for the dataset by looking at the first few rows, data types, and checking for missing values.\n"
   ]
  },
  {
   "cell_type": "code",
   "execution_count": 21,
   "metadata": {},
   "outputs": [
    {
     "name": "stdout",
     "output_type": "stream",
     "text": [
      "<class 'pandas.core.frame.DataFrame'>\n",
      "RangeIndex: 5 entries, 0 to 4\n",
      "Data columns (total 12 columns):\n",
      " #   Column             Non-Null Count  Dtype \n",
      "---  ------             --------------  ----- \n",
      " 0   title              5 non-null      object\n",
      " 1   image_url          5 non-null      object\n",
      " 2   price              5 non-null      object\n",
      " 3   rating             5 non-null      object\n",
      " 4   description        5 non-null      object\n",
      " 5   UPC                5 non-null      object\n",
      " 6   Product Type       5 non-null      object\n",
      " 7   Price (excl. tax)  5 non-null      object\n",
      " 8   Price (incl. tax)  5 non-null      object\n",
      " 9   Tax                5 non-null      object\n",
      " 10  Availability       5 non-null      object\n",
      " 11  Number of reviews  5 non-null      int64 \n",
      "dtypes: int64(1), object(11)\n",
      "memory usage: 608.0+ bytes\n"
     ]
    }
   ],
   "source": [
    "# Display the first few rows of the DataFrame\n",
    "df.head()\n",
    "\n",
    "# Data types and missing values\n",
    "df.info()\n"
   ]
  },
  {
   "cell_type": "markdown",
   "metadata": {},
   "source": [
    "## Data Cleaning and Preparation\n",
    "\n",
    "Here we'll prepare our dataset for analysis, handling any missing or anomalous data.\n"
   ]
  },
  {
   "cell_type": "code",
   "execution_count": 22,
   "metadata": {},
   "outputs": [],
   "source": [
    "# Example: Convert price to a numeric value and handle missing values if any\n",
    "df['price'] = df['price'].str.replace('£', '').astype(float)\n",
    "df.dropna(inplace=True)  # Handling missing values\n"
   ]
  },
  {
   "cell_type": "markdown",
   "metadata": {},
   "source": [
    "## Analysis\n",
    "\n",
    "We'll perform basic analyses, such as analyzing the distribution of book ratings and prices.\n"
   ]
  },
  {
   "cell_type": "code",
   "execution_count": 23,
   "metadata": {},
   "outputs": [],
   "source": [
    "# Rating distribution\n",
    "rating_counts = df['rating'].value_counts()\n",
    "\n",
    "# Average price of books\n",
    "average_price = df['price'].mean()\n"
   ]
  },
  {
   "cell_type": "markdown",
   "metadata": {},
   "source": [
    "## Data Visualization\n",
    "\n",
    "Creating visualizations to enhance our understanding of the dataset.\n"
   ]
  },
  {
   "cell_type": "code",
   "execution_count": 24,
   "metadata": {},
   "outputs": [
    {
     "data": {
      "image/png": "[encoded data removed]",
      "text/plain": [
       "<Figure size 640x480 with 1 Axes>"
      ]
     },
     "metadata": {},
     "output_type": "display_data"
    },
    {
     "data": {
      "image/png": "[encoded data removed]",
      "text/plain": [
       "<Figure size 640x480 with 1 Axes>"
      ]
     },
     "metadata": {},
     "output_type": "display_data"
    }
   ],
   "source": [
    "# Visualizing rating distribution\n",
    "sns.countplot(data=df, x='rating')\n",
    "plt.title('Distribution of Book Ratings')\n",
    "plt.show()\n",
    "\n",
    "# Visualizing price distribution\n",
    "sns.histplot(data=df, x='price', bins=20, kde=True)\n",
    "plt.title('Distribution of Book Prices')\n",
    "plt.show()\n"
   ]
  },
  {
   "cell_type": "markdown",
   "metadata": {},
   "source": [
    "## Price Distribution by Book Rating\n",
    "\n",
    "Next, we'll create a boxplot to visualize how book prices vary across different ratings. This will help us understand if there's a correlation between the rating of a book and its price.\n"
   ]
  },
  {
   "cell_type": "code",
   "execution_count": 25,
   "metadata": {},
   "outputs": [
    {
     "name": "stderr",
     "output_type": "stream",
     "text": [
      "C:\\Users\\Asus\\AppData\\Local\\Temp\\ipykernel_20416\\1640401565.py:3: FutureWarning: \n",
      "\n",
      "Passing `palette` without assigning `hue` is deprecated and will be removed in v0.14.0. Assign the `x` variable to `hue` and set `legend=False` for the same effect.\n",
      "\n",
      "  sns.boxplot(data=df, x='rating', y='price', palette='Set2')\n"
     ]
    },
    {
     "data": {
      "image/png": "[encoded data removed]",
      "text/plain": [
       "<Figure size 1000x600 with 1 Axes>"
      ]
     },
     "metadata": {},
     "output_type": "display_data"
    }
   ],
   "source": [
    "# Creating a boxplot for price distribution by book rating\n",
    "plt.figure(figsize=(10, 6))\n",
    "sns.boxplot(data=df, x='rating', y='price', palette='Set2')\n",
    "plt.title('Price Distribution by Book Rating')\n",
    "plt.xlabel('Rating')\n",
    "plt.ylabel('Price (£)')\n",
    "plt.show()\n"
   ]
  },
  {
   "cell_type": "markdown",
   "metadata": {},
   "source": [
    "# Conclusion\n",
    "\n",
    "In this notebook, we successfully parsed the XML sitemap of \"https://seocrawl.com/\" using the `SitemapParser` class. This data can be utilized for various analytical purposes, such as understanding the site structure, SEO analysis, and more.\n",
    "\n",
    "\n",
    "This notebook demonstrated the process of fetching and displaying college football game data using the `CollegeFootballDataAPI`. Such data can be used for various analytical purposes, such as sports analytics, performance assessment, and historical game analysis.\n",
    "\n",
    "\n",
    "In this notebook, we demonstrated how to scrape data from a web page using BeautifulSoup and the `BookScraper` class. This approach can be adapted for various web scraping tasks, provided that they comply with legal and ethical guidelines.\n",
    "\n",
    "In this analysis, we explored the distribution of ratings and prices of books from the 'Books to Scrape' website. The visualizations and basic statistics provided insights into the characteristics of the books available on the site.\n",
    "\n"
   ]
  },
  {
   "cell_type": "markdown",
   "metadata": {},
   "source": [
    "# References\n",
    "\n",
    "- BeautifulSoup Documentation: [Link to BeautifulSoup Docs](https://www.crummy.com/software/BeautifulSoup/bs4/doc/)\n",
    "- Pandas Documentation: [Link to Pandas Docs](https://pandas.pydata.org/docs/)\n",
    "- Requests Library Documentation: [Link to Requests Docs](https://docs.python-requests.org/en/master/)\n",
    "- College Football Data API Documentation: [Link to API Docs](https://api.collegefootballdata.com/api/docs/?url=/api-docs.json)\n",
    "- Requests Library Documentation: [Link to Requests Docs](https://docs.python-requests.org/en/master/)\n",
    "- Pandas Documentation: [Link to Pandas Docs](https://pandas.pydata.org/docs/)\n",
    "- BeautifulSoup Documentation: [Link to BeautifulSoup Docs](https://www.crummy.com/software/BeautifulSoup/bs4/doc/)\n",
    "- Pandas Documentation: [Link to Pandas Docs](https://pandas.pydata.org/docs/)\n",
    "- Books to Scrape Website: [Link to Books to Scrape](https://books.toscrape.com/)\n",
    "- Pandas Documentation: [Link to Pandas Docs](https://pandas.pydata.org/docs/)\n",
    "- Seaborn Documentation: [Link to Seaborn Docs](https://seaborn.pydata.org/)\n",
    "- Matplotlib Documentation: [Link to Matplotlib Docs](https://matplotlib.org/)\n"
   ]
  },
  {
   "cell_type": "markdown",
   "metadata": {},
   "source": []
  }
 ],
 "metadata": {
  "kernelspec": {
   "display_name": "Python 3",
   "language": "python",
   "name": "python3"
  },
  "language_info": {
   "codemirror_mode": {
    "name": "ipython",
    "version": 3
   },
   "file_extension": ".py",
   "mimetype": "text/x-python",
   "name": "python",
   "nbconvert_exporter": "python",
   "pygments_lexer": "ipython3",
   "version": "3.11.0"
  }
 },
 "nbformat": 4,
 "nbformat_minor": 2
}
